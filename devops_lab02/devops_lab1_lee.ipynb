{
 "cells": [
  {
   "cell_type": "markdown",
   "id": "5a74937a-742f-4d7b-a198-2a733a9fd84a",
   "metadata": {},
   "source": [
    "# Install the Packages"
   ]
  },
  {
   "cell_type": "code",
   "execution_count": 2,
   "id": "b93d76fd-748d-4c15-8ade-072cc2c56008",
   "metadata": {
    "tags": []
   },
   "outputs": [],
   "source": [
    "%%capture\n",
    "!pip install selenium\n",
    "!pip install requests\n",
    "!pip install beautifulsoup4\n",
    "!pip install newspaper3k"
   ]
  },
  {
   "cell_type": "markdown",
   "id": "67180aaf-a99c-42f2-b02a-75df3cd6acb7",
   "metadata": {},
   "source": [
    "# Import the Libraries"
   ]
  },
  {
   "cell_type": "code",
   "execution_count": 3,
   "id": "bf024379-cea4-4df5-82cd-955842a0b83b",
   "metadata": {
    "tags": []
   },
   "outputs": [],
   "source": [
    "import requests\n",
    "from bs4 import BeautifulSoup\n",
    "import os\n",
    "import csv\n",
    "import datetime\n",
    "import time\n",
    "import math\n",
    "import pandas\n",
    "import re\n",
    "from newspaper import Article\n",
    "import pandas as pd\n",
    "import json"
   ]
  },
  {
   "cell_type": "markdown",
   "id": "bdfb7e75-f253-44bc-adc6-6baa12eac4df",
   "metadata": {},
   "source": [
    "# Crowling the News (from the South Korean Big Portal site: www.daum.net)\n",
    "The titles and addresses of the latest international news in Korea were crawled from the Daum portal site.\n",
    "The file was saved in the data folder as csv every 10 minutes."
   ]
  },
  {
   "cell_type": "code",
   "execution_count": 4,
   "id": "367a34cc-2b9c-400a-8dec-0f3fa35f936f",
   "metadata": {
    "tags": []
   },
   "outputs": [
    {
     "ename": "KeyboardInterrupt",
     "evalue": "",
     "output_type": "error",
     "traceback": [
      "\u001b[0;31m---------------------------------------------------------------------------\u001b[0m",
      "\u001b[0;31mKeyboardInterrupt\u001b[0m                         Traceback (most recent call last)",
      "Cell \u001b[0;32mIn[4], line 30\u001b[0m\n\u001b[1;32m     27\u001b[0m df\u001b[38;5;241m.\u001b[39mto_csv(file_path, index\u001b[38;5;241m=\u001b[39m\u001b[38;5;28;01mFalse\u001b[39;00m)\n\u001b[1;32m     29\u001b[0m \u001b[38;5;66;03m# 30분마다 크롤링 실행\u001b[39;00m\n\u001b[0;32m---> 30\u001b[0m \u001b[43mtime\u001b[49m\u001b[38;5;241;43m.\u001b[39;49m\u001b[43msleep\u001b[49m\u001b[43m(\u001b[49m\u001b[38;5;241;43m1800\u001b[39;49m\u001b[43m)\u001b[49m\n",
      "\u001b[0;31mKeyboardInterrupt\u001b[0m: "
     ]
    }
   ],
   "source": [
    "# 주기적으로 저장할 csv 파일명\n",
    "filename = 'news_articles.csv'\n",
    "\n",
    "# 크롤링할 url 리스트\n",
    "url_list = [f'https://news.daum.net/breakingnews/foreign?page={i}' for i in range(1, 3)]\n",
    "\n",
    "# csv 파일에 저장할 데이터프레임을 만들기 위한 빈 리스트 생성\n",
    "article_list = []\n",
    "\n",
    "while True:\n",
    "    for url in url_list:\n",
    "        res = requests.get(url)\n",
    "        html = BeautifulSoup(res.text, \"html.parser\")\n",
    "        articles = html.select(\"ul.list_allnews > li\")\n",
    "\n",
    "        for article in articles:\n",
    "            link = article.select_one(\"a.link_txt\")\n",
    "            title = link.text.strip()\n",
    "            url = link[\"href\"]\n",
    "            article_list.append({\"title\": title, \"url\": url})\n",
    "\n",
    "    # 리스트를 데이터프레임으로 변환하여 csv 파일로 저장\n",
    "    df = pd.DataFrame(article_list)\n",
    "    #timestamp = datetime.datetime.now().strftime('%Y%m%d%H%M%S')\n",
    "    #filename_with_timestamp = f'news_articles_{timestamp}.csv'\n",
    "    file_path = os.path.join('data', filename)\n",
    "    df.to_csv(file_path, index=False)\n",
    "\n",
    "    # 30분마다 크롤링 실행\n",
    "    time.sleep(1800)"
   ]
  },
  {
   "cell_type": "code",
   "execution_count": null,
   "id": "563a8f6e-aae1-4e8b-ae41-8f74941c1e05",
   "metadata": {},
   "outputs": [],
   "source": []
  }
 ],
 "metadata": {
  "kernelspec": {
   "display_name": "Python 3 (ipykernel)",
   "language": "python",
   "name": "python3"
  },
  "language_info": {
   "codemirror_mode": {
    "name": "ipython",
    "version": 3
   },
   "file_extension": ".py",
   "mimetype": "text/x-python",
   "name": "python",
   "nbconvert_exporter": "python",
   "pygments_lexer": "ipython3",
   "version": "3.10.9"
  }
 },
 "nbformat": 4,
 "nbformat_minor": 5
}
