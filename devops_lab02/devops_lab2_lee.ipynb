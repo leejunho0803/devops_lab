{
 "cells": [
  {
   "cell_type": "code",
   "execution_count": 1,
   "metadata": {
    "colab": {
     "base_uri": "https://localhost:8080/"
    },
    "id": "2KhDOmpXRB9g",
    "outputId": "74baefa4-e0a7-433d-d223-cf09d2f04e84",
    "tags": []
   },
   "outputs": [
    {
     "name": "stdout",
     "output_type": "stream",
     "text": [
      "Collecting pymongo\n",
      "  Downloading pymongo-4.3.3-cp310-cp310-manylinux_2_17_x86_64.manylinux2014_x86_64.whl (492 kB)\n",
      "\u001b[2K     \u001b[90m━━━━━━━━━━━━━━━━━━━━━━━━━━━━━━━━━━━━━━━\u001b[0m \u001b[32m492.9/492.9 kB\u001b[0m \u001b[31m4.4 MB/s\u001b[0m eta \u001b[36m0:00:00\u001b[0m00:01\u001b[0m00:01\u001b[0m\n",
      "\u001b[?25hCollecting dnspython<3.0.0,>=1.16.0\n",
      "  Downloading dnspython-2.3.0-py3-none-any.whl (283 kB)\n",
      "\u001b[2K     \u001b[90m━━━━━━━━━━━━━━━━━━━━━━━━━━━━━━━━━━━━━━\u001b[0m \u001b[32m283.7/283.7 kB\u001b[0m \u001b[31m18.8 MB/s\u001b[0m eta \u001b[36m0:00:00\u001b[0m\n",
      "\u001b[?25hInstalling collected packages: dnspython, pymongo\n",
      "Successfully installed dnspython-2.3.0 pymongo-4.3.3\n",
      "Requirement already satisfied: pandas in /opt/conda/lib/python3.10/site-packages (1.5.3)\n",
      "Requirement already satisfied: python-dateutil>=2.8.1 in /opt/conda/lib/python3.10/site-packages (from pandas) (2.8.2)\n",
      "Requirement already satisfied: pytz>=2020.1 in /opt/conda/lib/python3.10/site-packages (from pandas) (2022.7.1)\n",
      "Requirement already satisfied: numpy>=1.21.0 in /opt/conda/lib/python3.10/site-packages (from pandas) (1.23.5)\n",
      "Requirement already satisfied: six>=1.5 in /opt/conda/lib/python3.10/site-packages (from python-dateutil>=2.8.1->pandas) (1.16.0)\n"
     ]
    }
   ],
   "source": [
    "!pip install pymongo\n",
    "!pip install pandas"
   ]
  },
  {
   "cell_type": "code",
   "execution_count": 3,
   "metadata": {
    "id": "UKiv-8TfPze_",
    "tags": []
   },
   "outputs": [],
   "source": [
    "# CSV 파일을 판다스 데이터프레임으로 읽기\n",
    "# read csv file into pandas dataframe\n",
    "\n",
    "import pandas as pd\n",
    "csv_file = 'data/news_articles.csv'\n",
    "df = pd.read_csv(csv_file)\n"
   ]
  },
  {
   "cell_type": "code",
   "execution_count": 4,
   "metadata": {
    "id": "XWPZNphqQks_",
    "tags": []
   },
   "outputs": [],
   "source": [
    "# 'title'과 'url' 열을 각각 리스트로 변환\n",
    "# Convert the 'title' and 'url' columns to lists respectively\n",
    "titles = df['title'].tolist()\n",
    "urls = df['url'].tolist()"
   ]
  },
  {
   "cell_type": "code",
   "execution_count": 5,
   "metadata": {
    "id": "ulppU3HDigEA",
    "tags": []
   },
   "outputs": [
    {
     "data": {
      "text/plain": [
       "['Solar Eclipse 2024',\n",
       " '트럼프 성추문 배우 “법정서 직접 증언하겠다”',\n",
       " 'Climate Home Runs',\n",
       " 'Climate Home Runs',\n",
       " 'Climate Home Runs',\n",
       " 'Climate Home Runs',\n",
       " 'Climate Home Runs',\n",
       " 'Climate Home Runs',\n",
       " 'Climate Home Runs',\n",
       " 'Climate Home Runs',\n",
       " 'SPAIN HOLY WEEK',\n",
       " 'INDIA BELIEF GOOD FRIDAY',\n",
       " '美 3월 비농업 신규 고용 발표 “23만6000건 증가”',\n",
       " '3월 미국 신규 취업자 23만6000명···고용시장 차츰 냉각',\n",
       " 'India Kashmir Ramadan',\n",
       " 'India Kashmir Ramadan',\n",
       " 'SPAIN ANIMALS',\n",
       " '중 “주미 타이완대표 제재”…유럽에는 ‘선물 공세’',\n",
       " 'Egypt Ramadan',\n",
       " 'APTOPIX Lebanon Israel',\n",
       " 'APTOPIX Israel Palestinians',\n",
       " '美 고용지표 악화...IMF \"올해 세계 경제 3% 미만 성장\"',\n",
       " '미 사업체 3월 일자리순증 23.6만개…실업률 3.5%(1보)',\n",
       " 'Egypt Ramadan',\n",
       " 'Russia Orthodox Annunciation',\n",
       " 'GM Cruise-Recall',\n",
       " 'APTOPIX Israel Palestinians',\n",
       " \"중국, 이번엔 저강도 보복...대만 총통 미국 방문에 '제재'로 맞불\",\n",
       " '美노동부 \"3월 비농업 일자리 23.6만개↑\" …전망 하회(1보)',\n",
       " '원전 못 가보고, 오염수 우려 ‘청취’만…“준비 부족했다”']"
      ]
     },
     "execution_count": 5,
     "metadata": {},
     "output_type": "execute_result"
    }
   ],
   "source": [
    "titles"
   ]
  },
  {
   "cell_type": "code",
   "execution_count": 6,
   "metadata": {
    "id": "v-tvZmmwii89",
    "tags": []
   },
   "outputs": [
    {
     "data": {
      "text/plain": [
       "['https://v.daum.net/v/20230407220359582',\n",
       " 'https://v.daum.net/v/20230407220122558',\n",
       " 'https://v.daum.net/v/20230407215909505',\n",
       " 'https://v.daum.net/v/20230407215906504',\n",
       " 'https://v.daum.net/v/20230407215902501',\n",
       " 'https://v.daum.net/v/20230407215859500',\n",
       " 'https://v.daum.net/v/20230407215855499',\n",
       " 'https://v.daum.net/v/20230407215852498',\n",
       " 'https://v.daum.net/v/20230407215848496',\n",
       " 'https://v.daum.net/v/20230407215845495',\n",
       " 'https://v.daum.net/v/20230407215824487',\n",
       " 'https://v.daum.net/v/20230407215730471',\n",
       " 'https://v.daum.net/v/20230407215707462',\n",
       " 'https://v.daum.net/v/20230407215701459',\n",
       " 'https://v.daum.net/v/20230407215657456',\n",
       " 'https://v.daum.net/v/20230407215657456',\n",
       " 'https://v.daum.net/v/20230407215653455',\n",
       " 'https://v.daum.net/v/20230407215320399',\n",
       " 'https://v.daum.net/v/20230407215139374',\n",
       " 'https://v.daum.net/v/20230407215125370',\n",
       " 'https://v.daum.net/v/20230407215047351',\n",
       " 'https://v.daum.net/v/20230407214907340',\n",
       " 'https://v.daum.net/v/20230407214830331',\n",
       " 'https://v.daum.net/v/20230407214813327',\n",
       " 'https://v.daum.net/v/20230407214805325',\n",
       " 'https://v.daum.net/v/20230407214747317',\n",
       " 'https://v.daum.net/v/20230407214630304',\n",
       " 'https://v.daum.net/v/20230407214554295',\n",
       " 'https://v.daum.net/v/20230407214447277',\n",
       " 'https://v.daum.net/v/20230407214418271']"
      ]
     },
     "execution_count": 6,
     "metadata": {},
     "output_type": "execute_result"
    }
   ],
   "source": [
    "urls"
   ]
  },
  {
   "cell_type": "code",
   "execution_count": 9,
   "metadata": {
    "id": "BK3KhH4pWf-z",
    "tags": []
   },
   "outputs": [],
   "source": [
    "import pymongo\n",
    "import os"
   ]
  },
  {
   "cell_type": "code",
   "execution_count": 15,
   "metadata": {
    "id": "bSaM36EjWkVC",
    "tags": []
   },
   "outputs": [],
   "source": [
    "# MongoDB 연결\n",
    "# MongoDB connection\n",
    "\n",
    "client = pymongo.MongoClient('mongodb://158.160.48.2:27017/')"
   ]
  },
  {
   "cell_type": "code",
   "execution_count": 21,
   "metadata": {
    "id": "A52jlXaUQmbc",
    "tags": []
   },
   "outputs": [],
   "source": [
    "# 데이터베이스 및 컬렉션 선택\n",
    "# select database and collection\n",
    "\n",
    "db = client['mydatabase']\n",
    "collection = db['news']\n"
   ]
  },
  {
   "cell_type": "code",
   "execution_count": 17,
   "metadata": {
    "id": "NQuJWfveRyvU",
    "tags": []
   },
   "outputs": [
    {
     "name": "stdout",
     "output_type": "stream",
     "text": [
      "30 documents inserted.\n"
     ]
    }
   ],
   "source": [
    "# 판다스 데이터프레임을 MongoDB 컬렉션에 저장\n",
    "# save pandas dataframe to mongodb collection\n",
    "\n",
    "docs = [{'title': t, 'url': u} for t, u in zip(titles, urls)]\n",
    "result = collection.insert_many(docs)\n",
    "print(len(result.inserted_ids), 'documents inserted.')"
   ]
  },
  {
   "cell_type": "code",
   "execution_count": 18,
   "metadata": {
    "id": "THibxZaPX7g8",
    "tags": []
   },
   "outputs": [],
   "source": [
    "# MongoDB에서 데이터 조회하고 판다스 데이터프레임으로 변환\n",
    "# Retrieve data from MongoDB and convert to pandas dataframe\n",
    "\n",
    "cursor = collection.find({})\n",
    "data = pd.DataFrame(list(cursor))\n"
   ]
  },
  {
   "cell_type": "code",
   "execution_count": 23,
   "metadata": {
    "id": "rPuZdHaXX9pA",
    "tags": []
   },
   "outputs": [
    {
     "data": {
      "text/html": [
       "<div>\n",
       "<style scoped>\n",
       "    .dataframe tbody tr th:only-of-type {\n",
       "        vertical-align: middle;\n",
       "    }\n",
       "\n",
       "    .dataframe tbody tr th {\n",
       "        vertical-align: top;\n",
       "    }\n",
       "\n",
       "    .dataframe thead th {\n",
       "        text-align: right;\n",
       "    }\n",
       "</style>\n",
       "<table border=\"1\" class=\"dataframe\">\n",
       "  <thead>\n",
       "    <tr style=\"text-align: right;\">\n",
       "      <th></th>\n",
       "      <th>_id</th>\n",
       "      <th>title</th>\n",
       "      <th>url</th>\n",
       "    </tr>\n",
       "  </thead>\n",
       "  <tbody>\n",
       "    <tr>\n",
       "      <th>0</th>\n",
       "      <td>64301790f8b994cbd8a849f8</td>\n",
       "      <td>Solar Eclipse 2024</td>\n",
       "      <td>https://v.daum.net/v/20230407220359582</td>\n",
       "    </tr>\n",
       "    <tr>\n",
       "      <th>1</th>\n",
       "      <td>64301790f8b994cbd8a849f9</td>\n",
       "      <td>트럼프 성추문 배우 “법정서 직접 증언하겠다”</td>\n",
       "      <td>https://v.daum.net/v/20230407220122558</td>\n",
       "    </tr>\n",
       "    <tr>\n",
       "      <th>2</th>\n",
       "      <td>64301790f8b994cbd8a849fa</td>\n",
       "      <td>Climate Home Runs</td>\n",
       "      <td>https://v.daum.net/v/20230407215909505</td>\n",
       "    </tr>\n",
       "    <tr>\n",
       "      <th>3</th>\n",
       "      <td>64301790f8b994cbd8a849fb</td>\n",
       "      <td>Climate Home Runs</td>\n",
       "      <td>https://v.daum.net/v/20230407215906504</td>\n",
       "    </tr>\n",
       "    <tr>\n",
       "      <th>4</th>\n",
       "      <td>64301790f8b994cbd8a849fc</td>\n",
       "      <td>Climate Home Runs</td>\n",
       "      <td>https://v.daum.net/v/20230407215902501</td>\n",
       "    </tr>\n",
       "    <tr>\n",
       "      <th>5</th>\n",
       "      <td>64301790f8b994cbd8a849fd</td>\n",
       "      <td>Climate Home Runs</td>\n",
       "      <td>https://v.daum.net/v/20230407215859500</td>\n",
       "    </tr>\n",
       "    <tr>\n",
       "      <th>6</th>\n",
       "      <td>64301790f8b994cbd8a849fe</td>\n",
       "      <td>Climate Home Runs</td>\n",
       "      <td>https://v.daum.net/v/20230407215855499</td>\n",
       "    </tr>\n",
       "    <tr>\n",
       "      <th>7</th>\n",
       "      <td>64301790f8b994cbd8a849ff</td>\n",
       "      <td>Climate Home Runs</td>\n",
       "      <td>https://v.daum.net/v/20230407215852498</td>\n",
       "    </tr>\n",
       "    <tr>\n",
       "      <th>8</th>\n",
       "      <td>64301790f8b994cbd8a84a00</td>\n",
       "      <td>Climate Home Runs</td>\n",
       "      <td>https://v.daum.net/v/20230407215848496</td>\n",
       "    </tr>\n",
       "    <tr>\n",
       "      <th>9</th>\n",
       "      <td>64301790f8b994cbd8a84a01</td>\n",
       "      <td>Climate Home Runs</td>\n",
       "      <td>https://v.daum.net/v/20230407215845495</td>\n",
       "    </tr>\n",
       "    <tr>\n",
       "      <th>10</th>\n",
       "      <td>64301790f8b994cbd8a84a02</td>\n",
       "      <td>SPAIN HOLY WEEK</td>\n",
       "      <td>https://v.daum.net/v/20230407215824487</td>\n",
       "    </tr>\n",
       "    <tr>\n",
       "      <th>11</th>\n",
       "      <td>64301790f8b994cbd8a84a03</td>\n",
       "      <td>INDIA BELIEF GOOD FRIDAY</td>\n",
       "      <td>https://v.daum.net/v/20230407215730471</td>\n",
       "    </tr>\n",
       "    <tr>\n",
       "      <th>12</th>\n",
       "      <td>64301790f8b994cbd8a84a04</td>\n",
       "      <td>美 3월 비농업 신규 고용 발표 “23만6000건 증가”</td>\n",
       "      <td>https://v.daum.net/v/20230407215707462</td>\n",
       "    </tr>\n",
       "    <tr>\n",
       "      <th>13</th>\n",
       "      <td>64301790f8b994cbd8a84a05</td>\n",
       "      <td>3월 미국 신규 취업자 23만6000명···고용시장 차츰 냉각</td>\n",
       "      <td>https://v.daum.net/v/20230407215701459</td>\n",
       "    </tr>\n",
       "    <tr>\n",
       "      <th>14</th>\n",
       "      <td>64301790f8b994cbd8a84a06</td>\n",
       "      <td>India Kashmir Ramadan</td>\n",
       "      <td>https://v.daum.net/v/20230407215657456</td>\n",
       "    </tr>\n",
       "    <tr>\n",
       "      <th>15</th>\n",
       "      <td>64301790f8b994cbd8a84a07</td>\n",
       "      <td>India Kashmir Ramadan</td>\n",
       "      <td>https://v.daum.net/v/20230407215657456</td>\n",
       "    </tr>\n",
       "    <tr>\n",
       "      <th>16</th>\n",
       "      <td>64301790f8b994cbd8a84a08</td>\n",
       "      <td>SPAIN ANIMALS</td>\n",
       "      <td>https://v.daum.net/v/20230407215653455</td>\n",
       "    </tr>\n",
       "    <tr>\n",
       "      <th>17</th>\n",
       "      <td>64301790f8b994cbd8a84a09</td>\n",
       "      <td>중 “주미 타이완대표 제재”…유럽에는 ‘선물 공세’</td>\n",
       "      <td>https://v.daum.net/v/20230407215320399</td>\n",
       "    </tr>\n",
       "    <tr>\n",
       "      <th>18</th>\n",
       "      <td>64301790f8b994cbd8a84a0a</td>\n",
       "      <td>Egypt Ramadan</td>\n",
       "      <td>https://v.daum.net/v/20230407215139374</td>\n",
       "    </tr>\n",
       "    <tr>\n",
       "      <th>19</th>\n",
       "      <td>64301790f8b994cbd8a84a0b</td>\n",
       "      <td>APTOPIX Lebanon Israel</td>\n",
       "      <td>https://v.daum.net/v/20230407215125370</td>\n",
       "    </tr>\n",
       "    <tr>\n",
       "      <th>20</th>\n",
       "      <td>64301790f8b994cbd8a84a0c</td>\n",
       "      <td>APTOPIX Israel Palestinians</td>\n",
       "      <td>https://v.daum.net/v/20230407215047351</td>\n",
       "    </tr>\n",
       "    <tr>\n",
       "      <th>21</th>\n",
       "      <td>64301790f8b994cbd8a84a0d</td>\n",
       "      <td>美 고용지표 악화...IMF \"올해 세계 경제 3% 미만 성장\"</td>\n",
       "      <td>https://v.daum.net/v/20230407214907340</td>\n",
       "    </tr>\n",
       "    <tr>\n",
       "      <th>22</th>\n",
       "      <td>64301790f8b994cbd8a84a0e</td>\n",
       "      <td>미 사업체 3월 일자리순증 23.6만개…실업률 3.5%(1보)</td>\n",
       "      <td>https://v.daum.net/v/20230407214830331</td>\n",
       "    </tr>\n",
       "    <tr>\n",
       "      <th>23</th>\n",
       "      <td>64301790f8b994cbd8a84a0f</td>\n",
       "      <td>Egypt Ramadan</td>\n",
       "      <td>https://v.daum.net/v/20230407214813327</td>\n",
       "    </tr>\n",
       "    <tr>\n",
       "      <th>24</th>\n",
       "      <td>64301790f8b994cbd8a84a10</td>\n",
       "      <td>Russia Orthodox Annunciation</td>\n",
       "      <td>https://v.daum.net/v/20230407214805325</td>\n",
       "    </tr>\n",
       "    <tr>\n",
       "      <th>25</th>\n",
       "      <td>64301790f8b994cbd8a84a11</td>\n",
       "      <td>GM Cruise-Recall</td>\n",
       "      <td>https://v.daum.net/v/20230407214747317</td>\n",
       "    </tr>\n",
       "    <tr>\n",
       "      <th>26</th>\n",
       "      <td>64301790f8b994cbd8a84a12</td>\n",
       "      <td>APTOPIX Israel Palestinians</td>\n",
       "      <td>https://v.daum.net/v/20230407214630304</td>\n",
       "    </tr>\n",
       "    <tr>\n",
       "      <th>27</th>\n",
       "      <td>64301790f8b994cbd8a84a13</td>\n",
       "      <td>중국, 이번엔 저강도 보복...대만 총통 미국 방문에 '제재'로 맞불</td>\n",
       "      <td>https://v.daum.net/v/20230407214554295</td>\n",
       "    </tr>\n",
       "    <tr>\n",
       "      <th>28</th>\n",
       "      <td>64301790f8b994cbd8a84a14</td>\n",
       "      <td>美노동부 \"3월 비농업 일자리 23.6만개↑\" …전망 하회(1보)</td>\n",
       "      <td>https://v.daum.net/v/20230407214447277</td>\n",
       "    </tr>\n",
       "    <tr>\n",
       "      <th>29</th>\n",
       "      <td>64301790f8b994cbd8a84a15</td>\n",
       "      <td>원전 못 가보고, 오염수 우려 ‘청취’만…“준비 부족했다”</td>\n",
       "      <td>https://v.daum.net/v/20230407214418271</td>\n",
       "    </tr>\n",
       "  </tbody>\n",
       "</table>\n",
       "</div>"
      ],
      "text/plain": [
       "                         _id                                   title  \\\n",
       "0   64301790f8b994cbd8a849f8                      Solar Eclipse 2024   \n",
       "1   64301790f8b994cbd8a849f9               트럼프 성추문 배우 “법정서 직접 증언하겠다”   \n",
       "2   64301790f8b994cbd8a849fa                       Climate Home Runs   \n",
       "3   64301790f8b994cbd8a849fb                       Climate Home Runs   \n",
       "4   64301790f8b994cbd8a849fc                       Climate Home Runs   \n",
       "5   64301790f8b994cbd8a849fd                       Climate Home Runs   \n",
       "6   64301790f8b994cbd8a849fe                       Climate Home Runs   \n",
       "7   64301790f8b994cbd8a849ff                       Climate Home Runs   \n",
       "8   64301790f8b994cbd8a84a00                       Climate Home Runs   \n",
       "9   64301790f8b994cbd8a84a01                       Climate Home Runs   \n",
       "10  64301790f8b994cbd8a84a02                         SPAIN HOLY WEEK   \n",
       "11  64301790f8b994cbd8a84a03                INDIA BELIEF GOOD FRIDAY   \n",
       "12  64301790f8b994cbd8a84a04         美 3월 비농업 신규 고용 발표 “23만6000건 증가”   \n",
       "13  64301790f8b994cbd8a84a05      3월 미국 신규 취업자 23만6000명···고용시장 차츰 냉각   \n",
       "14  64301790f8b994cbd8a84a06                   India Kashmir Ramadan   \n",
       "15  64301790f8b994cbd8a84a07                   India Kashmir Ramadan   \n",
       "16  64301790f8b994cbd8a84a08                           SPAIN ANIMALS   \n",
       "17  64301790f8b994cbd8a84a09            중 “주미 타이완대표 제재”…유럽에는 ‘선물 공세’   \n",
       "18  64301790f8b994cbd8a84a0a                           Egypt Ramadan   \n",
       "19  64301790f8b994cbd8a84a0b                  APTOPIX Lebanon Israel   \n",
       "20  64301790f8b994cbd8a84a0c             APTOPIX Israel Palestinians   \n",
       "21  64301790f8b994cbd8a84a0d     美 고용지표 악화...IMF \"올해 세계 경제 3% 미만 성장\"   \n",
       "22  64301790f8b994cbd8a84a0e      미 사업체 3월 일자리순증 23.6만개…실업률 3.5%(1보)   \n",
       "23  64301790f8b994cbd8a84a0f                           Egypt Ramadan   \n",
       "24  64301790f8b994cbd8a84a10            Russia Orthodox Annunciation   \n",
       "25  64301790f8b994cbd8a84a11                        GM Cruise-Recall   \n",
       "26  64301790f8b994cbd8a84a12             APTOPIX Israel Palestinians   \n",
       "27  64301790f8b994cbd8a84a13  중국, 이번엔 저강도 보복...대만 총통 미국 방문에 '제재'로 맞불   \n",
       "28  64301790f8b994cbd8a84a14    美노동부 \"3월 비농업 일자리 23.6만개↑\" …전망 하회(1보)   \n",
       "29  64301790f8b994cbd8a84a15        원전 못 가보고, 오염수 우려 ‘청취’만…“준비 부족했다”   \n",
       "\n",
       "                                       url  \n",
       "0   https://v.daum.net/v/20230407220359582  \n",
       "1   https://v.daum.net/v/20230407220122558  \n",
       "2   https://v.daum.net/v/20230407215909505  \n",
       "3   https://v.daum.net/v/20230407215906504  \n",
       "4   https://v.daum.net/v/20230407215902501  \n",
       "5   https://v.daum.net/v/20230407215859500  \n",
       "6   https://v.daum.net/v/20230407215855499  \n",
       "7   https://v.daum.net/v/20230407215852498  \n",
       "8   https://v.daum.net/v/20230407215848496  \n",
       "9   https://v.daum.net/v/20230407215845495  \n",
       "10  https://v.daum.net/v/20230407215824487  \n",
       "11  https://v.daum.net/v/20230407215730471  \n",
       "12  https://v.daum.net/v/20230407215707462  \n",
       "13  https://v.daum.net/v/20230407215701459  \n",
       "14  https://v.daum.net/v/20230407215657456  \n",
       "15  https://v.daum.net/v/20230407215657456  \n",
       "16  https://v.daum.net/v/20230407215653455  \n",
       "17  https://v.daum.net/v/20230407215320399  \n",
       "18  https://v.daum.net/v/20230407215139374  \n",
       "19  https://v.daum.net/v/20230407215125370  \n",
       "20  https://v.daum.net/v/20230407215047351  \n",
       "21  https://v.daum.net/v/20230407214907340  \n",
       "22  https://v.daum.net/v/20230407214830331  \n",
       "23  https://v.daum.net/v/20230407214813327  \n",
       "24  https://v.daum.net/v/20230407214805325  \n",
       "25  https://v.daum.net/v/20230407214747317  \n",
       "26  https://v.daum.net/v/20230407214630304  \n",
       "27  https://v.daum.net/v/20230407214554295  \n",
       "28  https://v.daum.net/v/20230407214447277  \n",
       "29  https://v.daum.net/v/20230407214418271  "
      ]
     },
     "metadata": {},
     "output_type": "display_data"
    }
   ],
   "source": [
    "# 결과 출력\n",
    "# Output the result\n",
    "\n",
    "display(data)"
   ]
  },
  {
   "cell_type": "code",
   "execution_count": 20,
   "metadata": {
    "id": "X1UP7cUqX-6d",
    "tags": []
   },
   "outputs": [
    {
     "name": "stdout",
     "output_type": "stream",
     "text": [
      "첫 번째 title: Solar Eclipse 2024\n",
      "첫 번째 url: https://v.daum.net/v/20230407220359582\n"
     ]
    }
   ],
   "source": [
    "# 'title'과 'url' 리스트 사용\n",
    "# 예시: 리스트에서 첫 번째 항목 출력\n",
    "print(f\"첫 번째 title: {titles[0]}\")\n",
    "print(f\"첫 번째 url: {urls[0]}\")"
   ]
  },
  {
   "cell_type": "code",
   "execution_count": null,
   "metadata": {
    "id": "tHyb26BuYLcX"
   },
   "outputs": [],
   "source": []
  }
 ],
 "metadata": {
  "colab": {
   "provenance": []
  },
  "kernelspec": {
   "display_name": "Python 3 (ipykernel)",
   "language": "python",
   "name": "python3"
  },
  "language_info": {
   "codemirror_mode": {
    "name": "ipython",
    "version": 3
   },
   "file_extension": ".py",
   "mimetype": "text/x-python",
   "name": "python",
   "nbconvert_exporter": "python",
   "pygments_lexer": "ipython3",
   "version": "3.10.9"
  }
 },
 "nbformat": 4,
 "nbformat_minor": 4
}
